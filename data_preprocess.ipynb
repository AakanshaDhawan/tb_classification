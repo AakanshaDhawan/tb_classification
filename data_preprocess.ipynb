{
 "cells": [
  {
   "cell_type": "code",
   "execution_count": 1,
   "metadata": {},
   "outputs": [],
   "source": [
    "import cv2\n",
    "import glob\n",
    "import os\n",
    "import random\n",
    "import numpy as np\n",
    "from scipy import ndarray\n",
    "from scipy import ndimage\n",
    "from scipy import misc\n",
    "\n",
    "# image processing library\n",
    "import skimage as sk\n",
    "from skimage import transform\n",
    "from skimage import util\n",
    "from skimage import io"
   ]
  },
  {
   "cell_type": "code",
   "execution_count": 4,
   "metadata": {},
   "outputs": [],
   "source": [
    "def get_label(fname):\n",
    "    label = int(fname.split('.png')[0][-1])\n",
    "    return label\n"
   ]
  },
  {
   "cell_type": "code",
   "execution_count": 33,
   "metadata": {},
   "outputs": [],
   "source": [
    "# transforms for data aug mentation\n",
    "\n",
    "IMG_W, IMG_H = 128, 128\n",
    "\n",
    "def grey(img):\n",
    "    grayscale = sk.color.rgb2grey(img)\n",
    "    resize= transform.resize(grayscale,(IMG_W, IMG_H))\n",
    "    return resize\n",
    "\n",
    "def affine(img):\n",
    "    resize= transform.resize(img,(IMG_W, IMG_H))\n",
    "    #resize = transform.AffineTransform(matrix=None, scale=None, rotation=8, shear=None, translation=0.1)    \n",
    "    return resize\n",
    "\n"
   ]
  },
  {
   "cell_type": "code",
   "execution_count": 34,
   "metadata": {},
   "outputs": [],
   "source": [
    "file_root1 = './data/'\n",
    "files = os.listdir(file_root1)\n",
    "files.sort()\n",
    "files_1 = [f for f in files if '.png' in f]\n",
    "files_pos = [f for f in files_1 if get_label(f)==1]\n",
    "files_neg = [f for f in files_1 if get_label(f)==0]\n",
    "\n",
    "n_test = int(len(files_1)*0.25)\n",
    "\n",
    "# 75% of data to be used as training, randomly choose 25% for testing\n",
    "test_files_pos = random.sample(files_pos, n_test//2)\n",
    "test_files_neg = random.sample(files_neg, n_test//2)\n",
    "test_files = test_files_neg+test_files_pos\n",
    "\n",
    "train_files_pos = [f for f in files_pos if f not in test_files_pos]\n",
    "\n",
    "train_files_neg = [f for f in files_neg if f not in test_files_neg]\n",
    "\n",
    "train_files = train_files_neg + train_files_pos\n"
   ]
  },
  {
   "cell_type": "code",
   "execution_count": 35,
   "metadata": {},
   "outputs": [
    {
     "name": "stderr",
     "output_type": "stream",
     "text": [
      "c:\\users\\aakanshadhawan\\appdata\\local\\programs\\python\\python35\\lib\\site-packages\\skimage\\util\\dtype.py:141: UserWarning: Possible precision loss when converting from float64 to uint8\n",
      "  .format(dtypeobj_in, dtypeobj_out))\n"
     ]
    }
   ],
   "source": [
    "# agumenting train files\n",
    "n_aug_per_file = 3\n",
    "for f in train_files_pos:\n",
    "    I0 = io.imread('./data/'+f)\n",
    "    I = grey(I0)\n",
    "    io.imsave('./data/to_process/train_aug/pos/'+'aug0_'+f,I)\n",
    "    for i in range(1, 1+n_aug_per_file):\n",
    "        I = affine(I0)\n",
    "        aug = 'aug{}_'.format(i)\n",
    "        au=aug+f\n",
    "        io.imsave('./data/to_process/train_aug/pos/'+au,I)\n",
    "        \n",
    "        \n",
    "for f in train_files_neg:\n",
    "#     fname = f.split('.png')[0]\n",
    "    I0 = io.imread('./data/'+f)\n",
    "    I = grey(I0)\n",
    "    io.imsave('./data/to_process/train_aug/neg/'+'aug0_'+f,I)\n",
    "    for i in range(1, 1+n_aug_per_file):\n",
    "        I = affine(I0)\n",
    "        aug = 'aug{}_'.format(i)\n",
    "        io.imsave('./data/to_process/train_aug/neg/'+aug+f,I)"
   ]
  },
  {
   "cell_type": "code",
   "execution_count": 37,
   "metadata": {},
   "outputs": [
    {
     "ename": "ValueError",
     "evalue": "Sample larger than population",
     "output_type": "error",
     "traceback": [
      "\u001b[1;31m---------------------------------------------------------------------------\u001b[0m",
      "\u001b[1;31mValueError\u001b[0m                                Traceback (most recent call last)",
      "\u001b[1;32m<ipython-input-37-6b9ef7262961>\u001b[0m in \u001b[0;36m<module>\u001b[1;34m\u001b[0m\n\u001b[0;32m     12\u001b[0m \u001b[1;33m\u001b[0m\u001b[0m\n\u001b[0;32m     13\u001b[0m \u001b[0mt1\u001b[0m \u001b[1;33m=\u001b[0m \u001b[0mos\u001b[0m\u001b[1;33m.\u001b[0m\u001b[0mlistdir\u001b[0m\u001b[1;33m(\u001b[0m\u001b[1;34m'./data/to_process/train_aug/neg/'\u001b[0m\u001b[1;33m)\u001b[0m\u001b[1;33m\u001b[0m\u001b[0m\n\u001b[1;32m---> 14\u001b[1;33m \u001b[0mt2\u001b[0m \u001b[1;33m=\u001b[0m \u001b[0mrandom\u001b[0m\u001b[1;33m.\u001b[0m\u001b[0msample\u001b[0m\u001b[1;33m(\u001b[0m\u001b[0mt1\u001b[0m\u001b[1;33m,\u001b[0m \u001b[1;36m1000\u001b[0m\u001b[1;33m)\u001b[0m\u001b[1;33m\u001b[0m\u001b[0m\n\u001b[0m\u001b[0;32m     15\u001b[0m \u001b[1;32mfor\u001b[0m \u001b[0mf\u001b[0m \u001b[1;32min\u001b[0m \u001b[0mt2\u001b[0m\u001b[1;33m:\u001b[0m\u001b[1;33m\u001b[0m\u001b[0m\n\u001b[0;32m     16\u001b[0m     \u001b[0mshutil\u001b[0m\u001b[1;33m.\u001b[0m\u001b[0mcopy2\u001b[0m\u001b[1;33m(\u001b[0m\u001b[0msrc\u001b[0m\u001b[1;33m=\u001b[0m\u001b[1;34m'./data/to_process/train_aug/neg/'\u001b[0m\u001b[1;33m+\u001b[0m\u001b[0mf\u001b[0m\u001b[1;33m,\u001b[0m \u001b[0mdst\u001b[0m\u001b[1;33m=\u001b[0m\u001b[1;34m'./data/train/'\u001b[0m\u001b[1;33m+\u001b[0m\u001b[0mf\u001b[0m\u001b[1;33m)\u001b[0m\u001b[1;33m\u001b[0m\u001b[0m\n",
      "\u001b[1;32mc:\\users\\aakanshadhawan\\appdata\\local\\programs\\python\\python35\\lib\\random.py\u001b[0m in \u001b[0;36msample\u001b[1;34m(self, population, k)\u001b[0m\n\u001b[0;32m    322\u001b[0m         \u001b[0mn\u001b[0m \u001b[1;33m=\u001b[0m \u001b[0mlen\u001b[0m\u001b[1;33m(\u001b[0m\u001b[0mpopulation\u001b[0m\u001b[1;33m)\u001b[0m\u001b[1;33m\u001b[0m\u001b[0m\n\u001b[0;32m    323\u001b[0m         \u001b[1;32mif\u001b[0m \u001b[1;32mnot\u001b[0m \u001b[1;36m0\u001b[0m \u001b[1;33m<=\u001b[0m \u001b[0mk\u001b[0m \u001b[1;33m<=\u001b[0m \u001b[0mn\u001b[0m\u001b[1;33m:\u001b[0m\u001b[1;33m\u001b[0m\u001b[0m\n\u001b[1;32m--> 324\u001b[1;33m             \u001b[1;32mraise\u001b[0m \u001b[0mValueError\u001b[0m\u001b[1;33m(\u001b[0m\u001b[1;34m\"Sample larger than population\"\u001b[0m\u001b[1;33m)\u001b[0m\u001b[1;33m\u001b[0m\u001b[0m\n\u001b[0m\u001b[0;32m    325\u001b[0m         \u001b[0mresult\u001b[0m \u001b[1;33m=\u001b[0m \u001b[1;33m[\u001b[0m\u001b[1;32mNone\u001b[0m\u001b[1;33m]\u001b[0m \u001b[1;33m*\u001b[0m \u001b[0mk\u001b[0m\u001b[1;33m\u001b[0m\u001b[0m\n\u001b[0;32m    326\u001b[0m         \u001b[0msetsize\u001b[0m \u001b[1;33m=\u001b[0m \u001b[1;36m21\u001b[0m        \u001b[1;31m# size of a small set minus size of an empty list\u001b[0m\u001b[1;33m\u001b[0m\u001b[0m\n",
      "\u001b[1;31mValueError\u001b[0m: Sample larger than population"
     ]
    }
   ],
   "source": [
    "for f in test_files:\n",
    "    I0 = io.imread('./data/'+f)\n",
    "    I = grey(I0)\n",
    "    io.imsave('./data/to_process/test_aug/'+'aug0_'+f,I)\n",
    "    \n",
    "import shutil\n",
    "\n",
    "t1 = os.listdir('./data/to_process/train_aug/pos/')\n",
    "t2 = random.sample(t1, 1000)\n",
    "for f in t2:\n",
    "    shutil.copy2(src='./data/to_process/train_aug/pos/'+f, dst='./data/train/'+f)\n",
    "\n",
    "t1 = os.listdir('./data/to_process/train_aug/neg/')\n",
    "t2 = random.sample(t1, 1000)\n",
    "for f in t2:\n",
    "    shutil.copy2(src='./data/to_process/train_aug/neg/'+f, dst='./data/train/'+f)\n"
   ]
  },
  {
   "cell_type": "code",
   "execution_count": null,
   "metadata": {},
   "outputs": [],
   "source": []
  }
 ],
 "metadata": {
  "kernelspec": {
   "display_name": "Python 3",
   "language": "python",
   "name": "python3"
  },
  "language_info": {
   "codemirror_mode": {
    "name": "ipython",
    "version": 3
   },
   "file_extension": ".py",
   "mimetype": "text/x-python",
   "name": "python",
   "nbconvert_exporter": "python",
   "pygments_lexer": "ipython3",
   "version": "3.5.4"
  }
 },
 "nbformat": 4,
 "nbformat_minor": 2
}
